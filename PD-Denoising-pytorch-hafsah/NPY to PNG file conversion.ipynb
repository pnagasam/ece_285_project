{
 "cells": [
  {
   "cell_type": "code",
   "execution_count": 89,
   "id": "0e3f64fb",
   "metadata": {},
   "outputs": [],
   "source": [
    "#import libraries\n",
    "import numpy as np\n",
    "from PIL import Image\n",
    "import os\n",
    "import matplotlib.pyplot as plt"
   ]
  },
  {
   "cell_type": "code",
   "execution_count": 100,
   "id": "219a8164",
   "metadata": {},
   "outputs": [],
   "source": [
    "def npy2png(source_folder, target_folder, noise_type):\n",
    "    for image in os.listdir(source_folder):\n",
    "        if (image[0] != '.'):\n",
    "            im = np.load(os.path.join(source_folder, image))\n",
    "            png_im = Image.fromarray(np.uint8(im*255))\n",
    "            png_im.save(target_folder+image[:-4]+'_'+noise_type+'.png')"
   ]
  },
  {
   "cell_type": "code",
   "execution_count": 101,
   "id": "7a8e69cf",
   "metadata": {},
   "outputs": [],
   "source": [
    "noise_types = ['gauss', 'poisson', 'quant', 'periodic']\n",
    "source_path = '285_noisy_ims/'\n",
    "dest_path = 'data/difficult/'\n",
    "\n",
    "for i in range(4):\n",
    "     npy2png(source_path+noise_types[i]+'/', dest_path, noise_types[i])"
   ]
  },
  {
   "cell_type": "code",
   "execution_count": 103,
   "id": "e72e0a14",
   "metadata": {},
   "outputs": [],
   "source": [
    "npy2png('original_pics/', dest_path, 'original')"
   ]
  }
 ],
 "metadata": {
  "kernelspec": {
   "display_name": "Python 3 (ipykernel)",
   "language": "python",
   "name": "python3"
  },
  "language_info": {
   "codemirror_mode": {
    "name": "ipython",
    "version": 3
   },
   "file_extension": ".py",
   "mimetype": "text/x-python",
   "name": "python",
   "nbconvert_exporter": "python",
   "pygments_lexer": "ipython3",
   "version": "3.9.5"
  }
 },
 "nbformat": 4,
 "nbformat_minor": 5
}
